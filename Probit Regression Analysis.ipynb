{
 "cells": [
  {
   "cell_type": "code",
   "execution_count": 7,
   "id": "5db27f9e-fdbe-49e3-9005-dbd3fd6b7227",
   "metadata": {},
   "outputs": [],
   "source": [
    "# Import necessary libraries\n",
    "import pandas as pd\n",
    "import numpy as np\n",
    "from sklearn.model_selection import train_test_split\n",
    "from sklearn.metrics import confusion_matrix, classification_report, roc_curve, auc\n",
    "import statsmodels.api as sm\n",
    "import matplotlib.pyplot as plt"
   ]
  },
  {
   "cell_type": "code",
   "execution_count": 13,
   "id": "64c0657f-9455-4fce-bd70-b41b793d134a",
   "metadata": {},
   "outputs": [
    {
     "name": "stdout",
     "output_type": "stream",
     "text": [
      "Data loaded successfully\n"
     ]
    }
   ],
   "source": [
    "# Load the dataset\n",
    "data_path = \"C:\\\\Users\\\\nihar\\\\OneDrive\\\\Desktop\\\\Bootcamp\\\\SCMA 632\\\\DataSet\\\\NSSO68.csv\"\n",
    "try:\n",
    "    data = pd.read_csv(data_path, low_memory=False)\n",
    "    print(\"Data loaded successfully\")\n",
    "except FileNotFoundError:\n",
    "    print(f\"File not found at path: {data_path}\")\n",
    "except Exception as e:\n",
    "    print(f\"An error occurred while loading the data: {e}\")"
   ]
  },
  {
   "cell_type": "code",
   "execution_count": 39,
   "id": "2cabe8fb-19b0-4d13-8ab7-778ca2fb3c23",
   "metadata": {},
   "outputs": [],
   "source": [
    "# Ensure the data is loaded\n",
    "if 'data' in locals():\n",
    "    # Create the Target variable\n",
    "    data['non_veg'] = np.where(data[['eggsno_q', 'fishprawn_q', 'goatmeat_q', 'beef_q', 'pork_q', 'chicken_q', 'othrbirds_q']].sum(axis=1) > 0, 1, 0)\n"
   ]
  },
  {
   "cell_type": "code",
   "execution_count": 41,
   "id": "a545921d-3ad6-488f-aeb0-bba41c744d84",
   "metadata": {},
   "outputs": [
    {
     "name": "stdout",
     "output_type": "stream",
     "text": [
      "non_veg\n",
      "1    68590\n",
      "0    33072\n",
      "Name: count, dtype: int64\n"
     ]
    }
   ],
   "source": [
    "# Get the value counts of non_veg\n",
    "non_veg_values = data['non_veg'].value_counts()\n",
    "print(non_veg_values)"
   ]
  },
  {
   "cell_type": "code",
   "execution_count": 43,
   "id": "63530958-0141-40fc-aa6b-6b6c74f2eae5",
   "metadata": {},
   "outputs": [],
   "source": [
    "# Ensure that the dataset contains both levels of the target variable\n",
    "if data['non_veg'].nunique() < 2:\n",
    "    raise ValueError(\"The dataset does not contain both levels of the target variable 'non_veg'.\")\n"
   ]
  },
  {
   "cell_type": "code",
   "execution_count": 45,
   "id": "a23d7c1e-01c9-4c91-8813-3d2d032cb18c",
   "metadata": {},
   "outputs": [],
   "source": [
    "# Define the dependent variable (non_veg) and independent variables\n",
    "y = data['non_veg']\n",
    "X = data[['HH_type', 'Religion', 'Social_Group', 'Regular_salary_earner', 'Possess_ration_card', 'Sex', 'Age', 'Marital_Status', 'Education', 'Meals_At_Home', 'Region', 'hhdsz', 'NIC_2008', 'NCO_2004']]\n"
   ]
  },
  {
   "cell_type": "code",
   "execution_count": 47,
   "id": "84915099-31ab-47e9-a7fe-095b69fcc016",
   "metadata": {},
   "outputs": [],
   "source": [
    "# Convert relevant columns to categorical\n",
    "X = pd.get_dummies(X, drop_first=True)"
   ]
  },
  {
   "cell_type": "code",
   "execution_count": 53,
   "id": "9e5ab952-b286-4a96-ae2d-7f5cb5d168de",
   "metadata": {},
   "outputs": [],
   "source": [
    "# Combine the dependent and independent variables into one dataframe\n",
    "combined_data = pd.concat([y, X], axis=1)"
   ]
  },
  {
   "cell_type": "code",
   "execution_count": 55,
   "id": "3bf7c41c-bed5-4593-99d3-e3cea048d534",
   "metadata": {},
   "outputs": [
    {
     "name": "stdout",
     "output_type": "stream",
     "text": [
      "<class 'pandas.core.frame.DataFrame'>\n",
      "RangeIndex: 101662 entries, 0 to 101661\n",
      "Data columns (total 15 columns):\n",
      " #   Column                 Non-Null Count   Dtype  \n",
      "---  ------                 --------------   -----  \n",
      " 0   non_veg                101662 non-null  int32  \n",
      " 1   HH_type                101635 non-null  float64\n",
      " 2   Religion               101659 non-null  float64\n",
      " 3   Social_Group           101648 non-null  float64\n",
      " 4   Regular_salary_earner  101650 non-null  float64\n",
      " 5   Possess_ration_card    101649 non-null  float64\n",
      " 6   Sex                    101662 non-null  int64  \n",
      " 7   Age                    101662 non-null  int64  \n",
      " 8   Marital_Status         101660 non-null  float64\n",
      " 9   Education              101655 non-null  float64\n",
      " 10  Meals_At_Home          100443 non-null  float64\n",
      " 11  Region                 101662 non-null  int64  \n",
      " 12  hhdsz                  101662 non-null  int64  \n",
      " 13  NIC_2008               94151 non-null   float64\n",
      " 14  NCO_2004               94175 non-null   float64\n",
      "dtypes: float64(10), int32(1), int64(4)\n",
      "memory usage: 11.2 MB\n",
      "None\n",
      "   non_veg  HH_type  Religion  Social_Group  Regular_salary_earner  \\\n",
      "0        1      2.0       1.0           3.0                    1.0   \n",
      "1        1      2.0       3.0           9.0                    1.0   \n",
      "2        1      1.0       1.0           9.0                    1.0   \n",
      "3        1      2.0       3.0           9.0                    1.0   \n",
      "4        1      1.0       1.0           9.0                    2.0   \n",
      "\n",
      "   Possess_ration_card  Sex  Age  Marital_Status  Education  Meals_At_Home  \\\n",
      "0                  1.0    1   50             2.0        8.0           59.0   \n",
      "1                  1.0    2   40             3.0       12.0           56.0   \n",
      "2                  1.0    1   45             2.0        7.0           60.0   \n",
      "3                  1.0    1   75             3.0        6.0           60.0   \n",
      "4                  1.0    1   30             2.0        7.0           59.0   \n",
      "\n",
      "   Region  hhdsz  NIC_2008  NCO_2004  \n",
      "0       2      5   47510.0     411.0  \n",
      "1       2      2   85102.0     331.0  \n",
      "2       2      5   49219.0     121.0  \n",
      "3       2      3   49231.0     911.0  \n",
      "4       2      4   45403.0     121.0  \n"
     ]
    }
   ],
   "source": [
    "# Inspect the combined data\n",
    "print(combined_data.info())\n",
    "print(combined_data.head())"
   ]
  },
  {
   "cell_type": "code",
   "execution_count": 57,
   "id": "62187d5d-4439-42cf-89d3-5fe19aabb82c",
   "metadata": {},
   "outputs": [],
   "source": [
    "# Remove rows with missing values\n",
    "combined_data = combined_data.dropna()"
   ]
  },
  {
   "cell_type": "code",
   "execution_count": 59,
   "id": "8ab37b5c-01de-45e7-8269-4e4ffd90ea9c",
   "metadata": {},
   "outputs": [],
   "source": [
    "# Split the data into training and testing sets\n",
    "train_data, test_data = train_test_split(combined_data, test_size=0.2, random_state=123, stratify=combined_data['non_veg'])\n"
   ]
  },
  {
   "cell_type": "code",
   "execution_count": 61,
   "id": "c22cea89-cfe5-4a21-bdc2-de08d30ca612",
   "metadata": {},
   "outputs": [],
   "source": [
    "# Fit the probit regression model on the training data\n",
    "X_train = train_data.drop('non_veg', axis=1)\n",
    "y_train = train_data['non_veg']\n",
    "X_test = test_data.drop('non_veg', axis=1)\n",
    "y_test = test_data['non_veg']"
   ]
  },
  {
   "cell_type": "code",
   "execution_count": 63,
   "id": "da0178c7-cfd5-4c44-aff8-730966a2d4be",
   "metadata": {},
   "outputs": [
    {
     "name": "stdout",
     "output_type": "stream",
     "text": [
      "Optimization terminated successfully.\n",
      "         Current function value: 0.589410\n",
      "         Iterations 5\n",
      "                          Probit Regression Results                           \n",
      "==============================================================================\n",
      "Dep. Variable:                non_veg   No. Observations:                74476\n",
      "Model:                         Probit   Df Residuals:                    74461\n",
      "Method:                           MLE   Df Model:                           14\n",
      "Date:                Mon, 01 Jul 2024   Pseudo R-squ.:                 0.05215\n",
      "Time:                        22:45:32   Log-Likelihood:                -43897.\n",
      "converged:                       True   LL-Null:                       -46312.\n",
      "Covariance Type:            nonrobust   LLR p-value:                     0.000\n",
      "=========================================================================================\n",
      "                            coef    std err          z      P>|z|      [0.025      0.975]\n",
      "-----------------------------------------------------------------------------------------\n",
      "const                     0.0086      0.062      0.139      0.890      -0.113       0.131\n",
      "HH_type                   0.0200      0.004      4.791      0.000       0.012       0.028\n",
      "Religion                  0.1896      0.006     33.638      0.000       0.179       0.201\n",
      "Social_Group             -0.0461      0.002    -28.644      0.000      -0.049      -0.043\n",
      "Regular_salary_earner    -0.0354      0.012     -2.864      0.004      -0.060      -0.011\n",
      "Possess_ration_card       0.0148      0.013      1.129      0.259      -0.011       0.040\n",
      "Sex                      -0.0361      0.022     -1.609      0.108      -0.080       0.008\n",
      "Age                      -0.0020      0.000     -4.553      0.000      -0.003      -0.001\n",
      "Marital_Status           -0.0117      0.018     -0.660      0.509      -0.047       0.023\n",
      "Education                -0.0109      0.002     -6.544      0.000      -0.014      -0.008\n",
      "Meals_At_Home             0.0104      0.000     33.208      0.000       0.010       0.011\n",
      "Region                   -0.0782      0.004    -21.250      0.000      -0.085      -0.071\n",
      "hhdsz                    -0.0052      0.002     -2.238      0.025      -0.010      -0.001\n",
      "NIC_2008               2.315e-06   2.03e-07     11.415      0.000    1.92e-06    2.71e-06\n",
      "NCO_2004               7.082e-05   2.42e-05      2.926      0.003    2.34e-05       0.000\n",
      "=========================================================================================\n"
     ]
    }
   ],
   "source": [
    "probit_model = sm.Probit(y_train, sm.add_constant(X_train)).fit()\n",
    "print(probit_model.summary())"
   ]
  },
  {
   "cell_type": "code",
   "execution_count": 65,
   "id": "c0a695f6-d96a-4453-a6c7-00ded7225986",
   "metadata": {},
   "outputs": [],
   "source": [
    "# Predict probabilities on the test data\n",
    "predicted_probs = probit_model.predict(sm.add_constant(X_test))"
   ]
  },
  {
   "cell_type": "code",
   "execution_count": 67,
   "id": "41dc5821-551c-41d8-95b6-e69d0027a9e9",
   "metadata": {},
   "outputs": [],
   "source": [
    "# Convert probabilities to binary predictions using a threshold of 0.5\n",
    "predicted_classes = np.where(predicted_probs > 0.5, 1, 0)"
   ]
  },
  {
   "cell_type": "code",
   "execution_count": 69,
   "id": "98ef27cf-69f6-455a-8fb4-3c609ef4ef84",
   "metadata": {},
   "outputs": [
    {
     "name": "stdout",
     "output_type": "stream",
     "text": [
      "[[  639  5198]\n",
      " [  417 12366]]\n"
     ]
    }
   ],
   "source": [
    "# Confusion Matrix\n",
    "conf_matrix = confusion_matrix(y_test, predicted_classes)\n",
    "print(conf_matrix)"
   ]
  },
  {
   "cell_type": "code",
   "execution_count": 71,
   "id": "a05d4813-bf45-4dad-84a4-490c441dd3b2",
   "metadata": {},
   "outputs": [
    {
     "name": "stdout",
     "output_type": "stream",
     "text": [
      "              precision    recall  f1-score   support\n",
      "\n",
      "           0       0.61      0.11      0.19      5837\n",
      "           1       0.70      0.97      0.81     12783\n",
      "\n",
      "    accuracy                           0.70     18620\n",
      "   macro avg       0.65      0.54      0.50     18620\n",
      "weighted avg       0.67      0.70      0.62     18620\n",
      "\n"
     ]
    }
   ],
   "source": [
    "# Classification Report\n",
    "class_report = classification_report(y_test, predicted_classes)\n",
    "print(class_report)"
   ]
  },
  {
   "cell_type": "code",
   "execution_count": 73,
   "id": "6b265ade-f35c-4770-8d54-8e70b25d2415",
   "metadata": {},
   "outputs": [
    {
     "data": {
      "image/png": "[encoded data removed]",
      "text/plain": [
       "<Figure size 640x480 with 1 Axes>"
      ]
     },
     "metadata": {},
     "output_type": "display_data"
    },
    {
     "name": "stdout",
     "output_type": "stream",
     "text": [
      "AUC: 0.6609746599619529\n"
     ]
    }
   ],
   "source": [
    "# ROC curve and AUC value\n",
    "fpr, tpr, _ = roc_curve(y_test, predicted_probs)\n",
    "roc_auc = auc(fpr, tpr)\n",
    "plt.figure()\n",
    "plt.plot(fpr, tpr, color='orange', lw=2, label='ROC curve (area = %0.2f)' % roc_auc)\n",
    "plt.plot([0, 1], [0, 1], color='gray', lw=2, linestyle='--')\n",
    "plt.xlim([0.0, 1.0])\n",
    "plt.ylim([0.0, 1.05])\n",
    "plt.xlabel('False Positive Rate')\n",
    "plt.ylabel('True Positive Rate')\n",
    "plt.title('ROC Curve')\n",
    "plt.legend(loc=\"lower right\")\n",
    "plt.show()\n",
    "\n",
    "print(f\"AUC: {roc_auc}\")"
   ]
  },
  {
   "cell_type": "code",
   "execution_count": 83,
   "id": "a50de044-f343-46d6-89f0-4a218cb5c7da",
   "metadata": {},
   "outputs": [
    {
     "name": "stdout",
     "output_type": "stream",
     "text": [
      "Accuracy: 0.6984425349087003\n",
      "Precision: 0.7040537462992484\n",
      "Recall: 0.9673785496362356\n",
      "F1 Score: 0.8149734734899661\n"
     ]
    }
   ],
   "source": [
    "# Interpretation of metrics\n",
    "accuracy = conf_matrix.diagonal().sum() / conf_matrix.sum()\n",
    "precision = conf_matrix[1, 1] / (conf_matrix[0, 1] + conf_matrix[1, 1])\n",
    "recall = conf_matrix[1, 1] / (conf_matrix[1, 0] + conf_matrix[1, 1])\n",
    "f1_score = 2 * (precision * recall) / (precision + recall)\n",
    "\n",
    "print(f\"Accuracy: {accuracy}\")\n",
    "print(f\"Precision: {precision}\")\n",
    "print(f\"Recall: {recall}\")\n",
    "print(f\"F1 Score: {f1_score}\")"
   ]
  }
 ],
 "metadata": {
  "kernelspec": {
   "display_name": "Python 3 (ipykernel)",
   "language": "python",
   "name": "python3"
  },
  "language_info": {
   "codemirror_mode": {
    "name": "ipython",
    "version": 3
   },
   "file_extension": ".py",
   "mimetype": "text/x-python",
   "name": "python",
   "nbconvert_exporter": "python",
   "pygments_lexer": "ipython3",
   "version": "3.11.7"
  }
 },
 "nbformat": 4,
 "nbformat_minor": 5
}
